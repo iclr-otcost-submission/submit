{
 "cells": [
  {
   "cell_type": "code",
   "execution_count": null,
   "metadata": {},
   "outputs": [],
   "source": [
    "ROOT_DIR = ''\n",
    "SAVE_DIR = f'{ROOT_DIR}/results'\n",
    "import pandas as pd\n",
    "import sys\n",
    "import numpy as np\n",
    "import pickle\n",
    "import matplotlib.pyplot as plt\n",
    "import seaborn as sns\n",
    "from scipy.stats import bootstrap"
   ]
  },
  {
   "cell_type": "code",
   "execution_count": null,
   "metadata": {},
   "outputs": [],
   "source": [
    "def load_results(DATASET):\n",
    "    with open(f'{ROOT_DIR}/results/{DATASET}/{DATASET}_scores_full.pkl', 'rb') as f :\n",
    "        results = pickle.load(f)\n",
    "    return results\n",
    "    \n",
    "def bootstrap_ci(data, alpha=0.95):\n",
    "    estimates = {}\n",
    "    for c in data:\n",
    "        estimates[c]={}\n",
    "        for arch in data[c]:\n",
    "            res = data[c][arch]\n",
    "            median = np.mean(res)\n",
    "            bs_reps = bootstrap(np.array(res).reshape(1,-1), statistic=np.mean, n_resamples=1000)\n",
    "            ci = bs_reps.confidence_interval[0:2]\n",
    "            estimates[c][arch] = (median, ci[0], ci[1])\n",
    "    return estimates\n",
    "\n",
    "def bootstrap_samples(data, n_iterations):\n",
    "    n = len(data)\n",
    "    indices = np.random.randint(0, n, (n_iterations, n))\n",
    "    return data[indices]\n",
    "\n",
    "def get_difference_estimates(results):\n",
    "    results_diff = {}\n",
    "    n_iterations = 1000\n",
    "    for cost in results:\n",
    "        results_diff[cost] = {}\n",
    "        for architecture in list(results[cost].keys())[1:]:\n",
    "            single = np.array(results[cost]['single'])\n",
    "            other = np.array(results[cost][architecture])\n",
    "            bs_single_samples = bootstrap_samples(single, n_iterations)\n",
    "            bs_other_samples = bootstrap_samples(other, n_iterations)\n",
    "            bs_single_means = np.median(bs_single_samples, axis=1)\n",
    "            bs_other_means = np.median(bs_other_samples, axis=1)\n",
    "            bs_diff = bs_other_means - bs_single_means \n",
    "            mean_single = np.median(single)\n",
    "            median_diff = 100 * np.percentile(bs_diff, 50) / mean_single\n",
    "            lower_ci_diff = 100 * np.percentile(bs_diff, 5) / mean_single\n",
    "            upper_ci_diff = 100 * np.percentile(bs_diff, 95) / mean_single\n",
    "            results_diff[cost][architecture] = (np.round(median_diff, 3), np.round(lower_ci_diff, 3), np.round(upper_ci_diff, 3))\n",
    "    return pd.DataFrame.from_dict(results_diff, orient='index')\n",
    "\n",
    "def print_med_results(DATASET):\n",
    "    results = load_results(DATASET)\n",
    "    for arch in ['single', 'joint', 'federated', 'pfedme', 'ditto']:\n",
    "        print(arch)\n",
    "        for c in results:\n",
    "            print(np.median(results[c][arch]))\n",
    "        print('----')\n",
    "\n",
    "def grapher(results, DATASET, metric, costs, save):\n",
    "    results_long = results.reset_index().rename(columns={'index': 'cost'}).melt(id_vars=['cost'], var_name='architecture')\n",
    "    results_long[['median_diff', 'lower_ci_diff', 'upper_ci_diff']] = pd.DataFrame(results_long['value'].tolist(), index=results_long.index)\n",
    "    results_long.drop(columns=['value'], inplace=True)\n",
    "    results_long\n",
    "    plt.figure()\n",
    "    for architecture in results_long['architecture'].unique():\n",
    "        subset = results_long[results_long['architecture'] == architecture]\n",
    "        sns.lineplot(x='cost', y='median_diff', marker = 'o', data=subset, label=architecture.capitalize())\n",
    "        if DATASET not in ['IXITiny', 'ISIC']:\n",
    "            plt.fill_between(x=subset['cost'], y1=subset['lower_ci_diff'], y2=subset['upper_ci_diff'], alpha=0.2)\n",
    "    plt.axhline(y=0, color='black', linestyle = '--', alpha = 0.5, label = 'Baseline')\n",
    "    plt.xlabel('Dataset Cost', fontsize = 14)\n",
    "    plt.ylabel(f'% Change in {metric}', fontsize = 14)\n",
    "    plt.legend(fontsize = 14)\n",
    "    plt.xticks(fontsize = 12)\n",
    "    plt.yticks(fontsize = 12)\n",
    "    if save == True:\n",
    "        plt.savefig(f'{SAVE_DIR}/{DATASET}/{DATASET}_scores_change.pdf', bbox_inches='tight')\n",
    "    plt.show()\n",
    "\n",
    "def load_results_grad(DATASET):\n",
    "    with open(f'{ROOT_DIR}/results/{DATASET}/{DATASET}_gradient_diversities_full.pkl', 'rb') as f :\n",
    "        results = pickle.load(f)\n",
    "    return results\n",
    "\n",
    "def grapher_grad(DATASET, save):\n",
    "    results = load_results_grad(DATASET)\n",
    "    for cost in results:\n",
    "        values = pd.Series(results[cost]['metric'])\n",
    "        ema_result = values.ewm(span=50, adjust=False).mean()\n",
    "        sns.lineplot(ema_result, label = cost)\n",
    "    plt.xlabel('Epoch', fontsize = 14)\n",
    "    plt.ylabel(f'Gradient diversity', fontsize = 14)\n",
    "    plt.legend(title = 'Cost')\n",
    "    plt.legend(fontsize = 14)\n",
    "    plt.xticks(fontsize = 12)\n",
    "    plt.yticks(fontsize = 12)\n",
    "    if save == True:\n",
    "        plt.savefig(f'{SAVE_DIR}/{DATASET}/{DATASET}_gradient_diversity.pdf', bbox_inches='tight')\n",
    "    plt.show()\n",
    "\n",
    "def process_results(DATASET):\n",
    "    dataset_dict = {'Synthetic':['F1', '0.03-0.6'],\n",
    "                'Credit': ['F1', '0.12-0.40'],\n",
    "                'Weather': ['R2', '0.11-0.48'],\n",
    "                'EMNIST': ['Accuracy', '0.11-0.39'],\n",
    "                'CIFAR': ['Accuracy', '0.08-0.38'],\n",
    "                'ISIC': ['Balanced Accuracy', '0.06-0.30'],\n",
    "                'IXITiny': ['DICE', '0.08-0.30']}\n",
    "\n",
    "    results = load_results(DATASET)\n",
    "    results_estimates = bootstrap_ci(results, alpha=0.95)\n",
    "    results_diff_estimates = get_difference_estimates(results)\n",
    "    metric, costs = dataset_dict[DATASET]\n",
    "    save = True\n",
    "    grapher(results_diff_estimates, DATASET, metric, costs, save)\n",
    "    grapher_grad(DATASET, save)\n",
    "    return "
   ]
  },
  {
   "cell_type": "code",
   "execution_count": null,
   "metadata": {},
   "outputs": [],
   "source": [
    "DATASET = 'Synthetic'\n",
    "process_results(DATASET)"
   ]
  },
  {
   "cell_type": "code",
   "execution_count": null,
   "metadata": {},
   "outputs": [],
   "source": [
    "print_med_results(DATASET)"
   ]
  },
  {
   "cell_type": "code",
   "execution_count": null,
   "metadata": {},
   "outputs": [],
   "source": [
    "DATASET = 'Credit'\n",
    "process_results(DATASET)"
   ]
  },
  {
   "cell_type": "code",
   "execution_count": null,
   "metadata": {},
   "outputs": [],
   "source": [
    "print_med_results(DATASET)"
   ]
  },
  {
   "cell_type": "code",
   "execution_count": null,
   "metadata": {},
   "outputs": [],
   "source": [
    "DATASET = 'Weather'\n",
    "process_results(DATASET)"
   ]
  },
  {
   "cell_type": "code",
   "execution_count": null,
   "metadata": {},
   "outputs": [],
   "source": [
    "print_med_results(DATASET)"
   ]
  },
  {
   "cell_type": "code",
   "execution_count": null,
   "metadata": {},
   "outputs": [],
   "source": [
    "DATASET = 'EMNIST'\n",
    "process_results(DATASET)"
   ]
  },
  {
   "cell_type": "code",
   "execution_count": null,
   "metadata": {},
   "outputs": [],
   "source": [
    "print_med_results(DATASET)"
   ]
  },
  {
   "cell_type": "code",
   "execution_count": null,
   "metadata": {},
   "outputs": [],
   "source": [
    "DATASET = 'CIFAR'\n",
    "process_results(DATASET)"
   ]
  },
  {
   "cell_type": "code",
   "execution_count": null,
   "metadata": {},
   "outputs": [],
   "source": [
    "print_med_results(DATASET)"
   ]
  },
  {
   "cell_type": "code",
   "execution_count": null,
   "metadata": {},
   "outputs": [],
   "source": [
    "DATASET = 'IXITiny'\n",
    "process_results(DATASET)"
   ]
  },
  {
   "cell_type": "code",
   "execution_count": null,
   "metadata": {},
   "outputs": [],
   "source": [
    "print_med_results(DATASET)"
   ]
  },
  {
   "cell_type": "code",
   "execution_count": null,
   "metadata": {},
   "outputs": [],
   "source": [
    "DATASET = 'ISIC'\n",
    "process_results(DATASET)"
   ]
  },
  {
   "cell_type": "code",
   "execution_count": null,
   "metadata": {},
   "outputs": [],
   "source": [
    "print_med_results(DATASET)"
   ]
  }
 ],
 "metadata": {
  "kernelspec": {
   "display_name": "Python 3 (ipykernel)",
   "language": "python",
   "name": "python3"
  },
  "language_info": {
   "codemirror_mode": {
    "name": "ipython",
    "version": 3
   },
   "file_extension": ".py",
   "mimetype": "text/x-python",
   "name": "python",
   "nbconvert_exporter": "python",
   "pygments_lexer": "ipython3",
   "version": "3.10.10"
  },
  "orig_nbformat": 4,
  "vscode": {
   "interpreter": {
    "hash": "31f2aee4e71d21fbe5cf8b01ff0e069b9275f58929596ceb00d14d90e3e16cd6"
   }
  }
 },
 "nbformat": 4,
 "nbformat_minor": 2
}
