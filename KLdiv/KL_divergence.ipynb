{
 "cells": [
  {
   "cell_type": "code",
   "execution_count": null,
   "metadata": {},
   "outputs": [],
   "source": [
    "global ROOT_DIR\n",
    "ROOT_DIR = ''"
   ]
  },
  {
   "cell_type": "code",
   "execution_count": null,
   "metadata": {},
   "outputs": [],
   "source": [
    "import pandas as pd\n",
    "import numpy as np\n",
    "import sys\n",
    "sys.path.append(f'{ROOT_DIR}/code/helper/')\n",
    "sys.path.append(f'{ROOT_DIR}/code/Synthetic/')\n",
    "import OTCost as ot\n",
    "import KL as kl\n",
    "import dataCreator as dc\n",
    "import importlib\n",
    "import random\n",
    "from sklearn.utils import shuffle\n",
    "importlib.reload(ot)\n",
    "importlib.reload(kl)\n",
    "importlib.reload(dc)\n",
    "import seaborn as sns\n",
    "import matplotlib.pyplot as plt\n",
    "from sklearn.linear_model import LogisticRegression\n",
    "from sklearn import metrics\n",
    "from sklearn.model_selection import train_test_split\n",
    "from scipy import stats\n",
    "from scipy.special import kl_div"
   ]
  },
  {
   "cell_type": "markdown",
   "metadata": {},
   "source": [
    "## synthetic"
   ]
  },
  {
   "cell_type": "code",
   "execution_count": null,
   "metadata": {},
   "outputs": [],
   "source": [
    "def loadData(name):\n",
    "    ##load data\n",
    "    X = pd.read_csv(f'{ROOT_DIR}/data/Synthetic/{name}.csv', sep = ' ', names = [i for i in range(13)])\n",
    "    \n",
    "    ##shuffle\n",
    "    X = X.sample(frac = 1)\n",
    "    return X.iloc[:,:-1]"
   ]
  },
  {
   "cell_type": "code",
   "execution_count": null,
   "metadata": {},
   "outputs": [],
   "source": [
    "costs = [0.0, 0.1, 0.2, 0.3, 0.4, 0.5, 0.6, 0.8, 1.0]\n",
    "for c in costs:\n",
    "    name1, name2 = f'data_1_{c}',f'data_2_{c}'\n",
    "    d1, d2 = loadData(name1), loadData(name2)\n",
    "    print(kl.KLdivergence(d1, d2))"
   ]
  },
  {
   "cell_type": "markdown",
   "metadata": {},
   "source": [
    "## credit"
   ]
  },
  {
   "cell_type": "code",
   "execution_count": null,
   "metadata": {},
   "outputs": [],
   "source": [
    "def loadData(name):\n",
    "    ##load data\n",
    "    X = pd.read_csv(f'{ROOT_DIR}/data/Credit/{name}.csv', sep = ' ', names = [i for i in range(29)])\n",
    "    ## shuffle\n",
    "    X = X.sample(frac = 1)\n",
    "    ##get X and label\n",
    "    y = X.iloc[:,-1]\n",
    "    X = X.iloc[:,:-1]\n",
    "    return X"
   ]
  },
  {
   "cell_type": "code",
   "execution_count": null,
   "metadata": {},
   "outputs": [],
   "source": [
    "costs = [0.1, 0.2, 0.3, 0.4]\n",
    "for c in costs:\n",
    "    name1, name2 = f'data_1_{c}',f'data_2_{c}'\n",
    "    d1, d2 = loadData(name1), loadData(name2)\n",
    "    print(kl.KLdivergence(d1, d2))"
   ]
  },
  {
   "attachments": {},
   "cell_type": "markdown",
   "metadata": {},
   "source": [
    "## EMNIST"
   ]
  },
  {
   "cell_type": "code",
   "execution_count": null,
   "metadata": {},
   "outputs": [],
   "source": [
    "from emnist import extract_training_samples\n",
    "images_full, labels_full = extract_training_samples('byclass')"
   ]
  },
  {
   "cell_type": "code",
   "execution_count": null,
   "metadata": {},
   "outputs": [],
   "source": [
    "def pull_labels(images, labels, indices, size):\n",
    "    ##get indices for x, i\n",
    "    indices_x =  getIndices(indices[0], size)\n",
    "    indices_i =  getIndices(indices[1], size)\n",
    "\n",
    "\n",
    "    ##randomly permute and take fixed size of points\n",
    "    #np.random.seed(10)\n",
    "    indices_x = np.random.permutation(indices_x)\n",
    "    indices_i = np.random.permutation(indices_i)\n",
    "    \n",
    "    ind_1 = indices_x[:size]\n",
    "    ind_2 = indices_i[:size]\n",
    "\n",
    "    ##pull data and labels\n",
    "    X1 = images[ind_1] / 255\n",
    "    X2 = images[ind_2] / 255\n",
    "    y1 = labels[ind_1]\n",
    "    y2 = labels[ind_2]\n",
    "\n",
    "    ## reshape\n",
    "    X1 = X1.reshape((size, -1))\n",
    "    X2 = X2.reshape((size, -1))\n",
    "\n",
    "    return {\"1\": X1, \"2\": X2}, {\"1\":y1, \"2\":y2}"
   ]
  },
  {
   "cell_type": "code",
   "execution_count": null,
   "metadata": {},
   "outputs": [],
   "source": [
    "def getIndices(indices, size):\n",
    "    ##get number of indices\n",
    "    num_ind = len(indices)\n",
    "    ##get number per label\n",
    "    num_per_label = int(size / num_ind) + 10\n",
    "    indices_use = []\n",
    "    ## loop through and pull indices\n",
    "    for ind in indices:\n",
    "        indices_use.extend(np.where(np.isin(labels_full, ind) == True)[0][:num_per_label])\n",
    "    return indices_use"
   ]
  },
  {
   "cell_type": "code",
   "execution_count": null,
   "metadata": {},
   "outputs": [],
   "source": [
    "def sampler(data, label, num = 900):\n",
    "    data_, label_  = {}, {}\n",
    "    for i in data:\n",
    "        idx = np.random.choice(np.arange(data[i].shape[0]), num, replace=False)\n",
    "        data_[i] = data[i][idx]\n",
    "        label_[i] = label[i][idx].reshape(1,-1)[0]\n",
    "    return data_, label_"
   ]
  },
  {
   "cell_type": "code",
   "execution_count": null,
   "metadata": {},
   "outputs": [],
   "source": [
    "indices =  [[[12,40], [12, 40]],\n",
    "            [[33, 30], [33, 56]],\n",
    "            [[33, 15, 11], [33, 41, 18]],\n",
    "            [[33, 21, 47, 29, 32], [59, 26, 52, 30, 31]]]\n",
    "for ind in indices:\n",
    "    data, label = pull_labels(images_full, labels_full, ind, size = 5000)\n",
    "    data_, label_ = sampler(data, label, num = 1000)\n",
    "    print(kl.KLdivergence(data_['1'], data_['2']))\n"
   ]
  },
  {
   "cell_type": "markdown",
   "metadata": {},
   "source": [
    "## exact estimate"
   ]
  },
  {
   "cell_type": "code",
   "execution_count": null,
   "metadata": {},
   "outputs": [],
   "source": [
    "##create data\n",
    "data, label = dc.non_iid_creator2D(1)\n",
    "## calculate cost\n",
    "cost = ot.Synthetic_OTCost_label(data, label, private = False)\n",
    "\n",
    "for i in range(2):\n",
    "    sns.kdeplot(data['2'][:, i], hue = label['2'])\n",
    "    plt.title(i)\n",
    "    plt.show()"
   ]
  },
  {
   "cell_type": "code",
   "execution_count": null,
   "metadata": {},
   "outputs": [],
   "source": [
    "def run_test(data, label):\n",
    "    # train from d2 and test 1\n",
    "    X_train1, X_test, y_train1, y_test = train_test_split(data['2'],label['2'], test_size = 0.3, random_state=1)\n",
    "    X_train2, _, y_train2, _ = train_test_split(data['1'],label['1'], test_size = 0.3, random_state=1)\n",
    "\n",
    "    X_train = np.concatenate((X_train1, X_train2))\n",
    "    y_train = np.concatenate((y_train1, y_train2))\n",
    "    \n",
    "    # run basic LR\n",
    "    clf = LogisticRegression(random_state=0).fit(X_train, y_train)\n",
    "    pred = clf.predict_proba(X_test)[:,1]\n",
    "    fpr, tpr, _ = metrics.roc_curve(y_test, pred)\n",
    "    d2 = metrics.auc(fpr, tpr)\n",
    "\n",
    "    return d1, d2"
   ]
  },
  {
   "cell_type": "code",
   "execution_count": null,
   "metadata": {},
   "outputs": [],
   "source": [
    "def kl_calc(data):\n",
    "    kernel_p =  stats.gaussian_kde(data['1'].T)\n",
    "    kernel_q =  stats.gaussian_kde(data['2'].T)\n",
    "    p_x = kernel_p(data['1'].T)\n",
    "    q_x = kernel_q(data['2'].T)\n",
    "    return kl_div(p_x, q_x).sum()"
   ]
  },
  {
   "cell_type": "code",
   "execution_count": null,
   "metadata": {},
   "outputs": [],
   "source": [
    "def grapher(df, cost, path, save = False):\n",
    "    sns.lineplot( x= df[cost], y =df['AUC'], alpha = 0.8, marker = 'o', label = f'{cost}')\n",
    "    plt.xlabel('cost')\n",
    "    plt.ylabel(f'AUC')\n",
    "    plt.legend()\n",
    "    plt.title(f'{cost} cost vs. Test set AUC')\n",
    "    if save == True:\n",
    "        plt.savefig(f'{path}{cost}.pdf')\n",
    "    plt.show()"
   ]
  },
  {
   "cell_type": "code",
   "execution_count": null,
   "metadata": {},
   "outputs": [],
   "source": [
    "def saveDataset(data, label, name1, name2):\n",
    "    d1= np.concatenate((data['1'], label['1'].reshape(-1,1)), axis=1)\n",
    "    np.savetxt(f'{ROOT_DIR}/data/kl_div/{name1}.csv',d1)\n",
    "\n",
    "    d2= np.concatenate((data['2'], label['2'].reshape(-1,1)), axis=1)\n",
    "    np.savetxt(f'{ROOT_DIR}/data/kl_div/{name2}.csv',d2)\n",
    "    return"
   ]
  },
  {
   "cell_type": "code",
   "execution_count": null,
   "metadata": {},
   "outputs": [],
   "source": [
    "fracs = [0, 0.1, 0.2, 0.3, 0.4, 0.5, 0.6, 0.7, 0.8, 0.9, 1]\n",
    "results = {'OT': [], 'KL': [], \"AUC\": []}\n",
    "for i in fracs:\n",
    "    ##create data\n",
    "    data, label = dc.non_iid_creator2D(i)\n",
    "    ## calculate cost\n",
    "    results['OT'].append(ot.Synthetic_OTCost_label(data, label, private = False))\n",
    "    results['KL'].append(kl_calc(data))\n",
    "    _, auc_d2 = run_test(data, label)\n",
    "    results['AUC'].append(auc_d2)\n",
    "    saveDataset(data, label, f'd1_{i}', f'd2_{i}')\n"
   ]
  },
  {
   "cell_type": "code",
   "execution_count": null,
   "metadata": {},
   "outputs": [],
   "source": [
    "df = pd.DataFrame.from_dict(results)\n",
    "df.to_csv(f'{ROOT_DIR}/results/kl_div/results.csv', index = False)"
   ]
  },
  {
   "cell_type": "code",
   "execution_count": null,
   "metadata": {},
   "outputs": [],
   "source": [
    "path = f'{ROOT_DIR}/results/kl_div/'\n",
    "grapher(df, 'OT', path, save = True)"
   ]
  },
  {
   "cell_type": "code",
   "execution_count": null,
   "metadata": {},
   "outputs": [],
   "source": [
    "grapher(df, 'KL', path, save = True)"
   ]
  }
 ],
 "metadata": {
  "kernelspec": {
   "display_name": "Python 3 (ipykernel)",
   "language": "python",
   "name": "python3"
  },
  "language_info": {
   "codemirror_mode": {
    "name": "ipython",
    "version": 3
   },
   "file_extension": ".py",
   "mimetype": "text/x-python",
   "name": "python",
   "nbconvert_exporter": "python",
   "pygments_lexer": "ipython3",
   "version": "3.10.10"
  },
  "vscode": {
   "interpreter": {
    "hash": "281ef65c9cd9845e433bbe5d993e687d8475d676fe0ca3b169ee321bb12e4821"
   }
  }
 },
 "nbformat": 4,
 "nbformat_minor": 2
}
